{
 "cells": [
  {
   "cell_type": "code",
   "execution_count": 1,
   "id": "f4279d5c",
   "metadata": {},
   "outputs": [
    {
     "ename": "KeyboardInterrupt",
     "evalue": "",
     "output_type": "error",
     "traceback": [
      "\u001b[1;31m---------------------------------------------------------------------------\u001b[0m",
      "\u001b[1;31mKeyboardInterrupt\u001b[0m                         Traceback (most recent call last)",
      "Cell \u001b[1;32mIn[1], line 45\u001b[0m\n\u001b[0;32m     42\u001b[0m     cv2\u001b[38;5;241m.\u001b[39mdestroyAllWindows()\n\u001b[0;32m     44\u001b[0m \u001b[38;5;66;03m# Example of collecting images for 'good' hand gesture, capturing 1 pic per 's' press\u001b[39;00m\n\u001b[1;32m---> 45\u001b[0m \u001b[43mcapture_images\u001b[49m\u001b[43m(\u001b[49m\u001b[38;5;124;43m'\u001b[39;49m\u001b[38;5;124;43mwhere\u001b[39;49m\u001b[38;5;124;43m'\u001b[39;49m\u001b[43m,\u001b[49m\u001b[43m \u001b[49m\u001b[43mnum_samples\u001b[49m\u001b[38;5;241;43m=\u001b[39;49m\u001b[43m \u001b[49m\u001b[38;5;241;43m50\u001b[39;49m\u001b[43m)\u001b[49m\n",
      "Cell \u001b[1;32mIn[1], line 6\u001b[0m, in \u001b[0;36mcapture_images\u001b[1;34m(label, num_samples)\u001b[0m\n\u001b[0;32m      5\u001b[0m \u001b[38;5;28;01mdef\u001b[39;00m \u001b[38;5;21mcapture_images\u001b[39m(label, num_samples\u001b[38;5;241m=\u001b[39m\u001b[38;5;241m300\u001b[39m):\n\u001b[1;32m----> 6\u001b[0m     capture \u001b[38;5;241m=\u001b[39m \u001b[43mcv2\u001b[49m\u001b[38;5;241;43m.\u001b[39;49m\u001b[43mVideoCapture\u001b[49m\u001b[43m(\u001b[49m\u001b[38;5;241;43m0\u001b[39;49m\u001b[43m)\u001b[49m  \u001b[38;5;66;03m# Open webcam\u001b[39;00m\n\u001b[0;32m      7\u001b[0m     \u001b[38;5;28;01mif\u001b[39;00m \u001b[38;5;129;01mnot\u001b[39;00m os\u001b[38;5;241m.\u001b[39mpath\u001b[38;5;241m.\u001b[39mexists(\u001b[38;5;124mf\u001b[39m\u001b[38;5;124m'\u001b[39m\u001b[38;5;124mdataset2/\u001b[39m\u001b[38;5;132;01m{\u001b[39;00mlabel\u001b[38;5;132;01m}\u001b[39;00m\u001b[38;5;124m'\u001b[39m):\n\u001b[0;32m      8\u001b[0m         os\u001b[38;5;241m.\u001b[39mmakedirs(\u001b[38;5;124mf\u001b[39m\u001b[38;5;124m'\u001b[39m\u001b[38;5;124mdataset2/\u001b[39m\u001b[38;5;132;01m{\u001b[39;00mlabel\u001b[38;5;132;01m}\u001b[39;00m\u001b[38;5;124m'\u001b[39m)\n",
      "\u001b[1;31mKeyboardInterrupt\u001b[0m: "
     ]
    }
   ],
   "source": [
    "import cv2\n",
    "import os\n",
    "\n",
    "# Function to capture hand gesture images on pressing 's' for each capture\n",
    "def capture_images(label, num_samples=300):\n",
    "    capture = cv2.VideoCapture(0)  # Open webcam\n",
    "    if not os.path.exists(f'dataset2/{label}'):\n",
    "        os.makedirs(f'dataset2/{label}')\n",
    "        \n",
    "    print(f\"Press 's' to capture an image for '{label}' (Total samples needed: {num_samples})\")\n",
    "    \n",
    "    count = 0\n",
    "    while True:\n",
    "        ret, frame = capture.read()\n",
    "        if not ret:\n",
    "            break\n",
    "        \n",
    "        # Define the region of interest (ROI) for hand capture\n",
    "        roi = frame[100:400, 100:400]  # Adjust this region as per your hand placement\n",
    "        \n",
    "        # Display the ROI\n",
    "        cv2.imshow('ROI', roi)\n",
    "        \n",
    "        # Display the webcam feed with ROI marked\n",
    "        cv2.rectangle(frame, (100, 100), (400, 400), (0, 255, 0), 2)\n",
    "        cv2.putText(frame, f'Samples Captured: {count}/{num_samples}', \n",
    "                    (10, 50), cv2.FONT_HERSHEY_SIMPLEX, 1, (0, 255, 0), 2, cv2.LINE_AA)\n",
    "        cv2.imshow('Webcam', frame)\n",
    "        \n",
    "        # Capture the image on pressing 's'\n",
    "        if cv2.waitKey(1) & 0xFF == ord('s'):\n",
    "            image_path = f'dataset2/{label}/{count}.jpg'\n",
    "            cv2.imwrite(image_path, roi)\n",
    "            print(f\"Captured image {count + 1}/{num_samples}\")\n",
    "            count += 1\n",
    "            \n",
    "        # Break when the number of samples is reached or 'q' is pressed\n",
    "        if count >= num_samples or cv2.waitKey(1) & 0xFF == ord('q'):\n",
    "            break\n",
    "    \n",
    "    capture.release()\n",
    "    cv2.destroyAllWindows()\n",
    "\n",
    "# Example of collecting images for 'good' hand gesture, capturing 1 pic per 's' press\n",
    "capture_images('where', num_samples= 50)\n"
   ]
  },
  {
   "cell_type": "code",
   "execution_count": null,
   "id": "a5e6438c",
   "metadata": {},
   "outputs": [],
   "source": []
  },
  {
   "cell_type": "code",
   "execution_count": null,
   "id": "623f1f63",
   "metadata": {},
   "outputs": [],
   "source": []
  }
 ],
 "metadata": {
  "kernelspec": {
   "display_name": "env",
   "language": "python",
   "name": "env"
  },
  "language_info": {
   "codemirror_mode": {
    "name": "ipython",
    "version": 3
   },
   "file_extension": ".py",
   "mimetype": "text/x-python",
   "name": "python",
   "nbconvert_exporter": "python",
   "pygments_lexer": "ipython3",
   "version": "3.11.7"
  }
 },
 "nbformat": 4,
 "nbformat_minor": 5
}
